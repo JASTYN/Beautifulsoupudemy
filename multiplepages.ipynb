{
 "cells": [
  {
   "cell_type": "code",
   "execution_count": 1,
   "id": "0baf886e",
   "metadata": {},
   "outputs": [],
   "source": [
    "from bs4 import BeautifulSoup\n",
    "import requests\n",
    "import pandas as pd \n",
    "\n",
    "real_estate = pd.DataFrame(pd.DataFrame(columns=['street', 'Region', 'Beds', 'Baths', 'Price']))"
   ]
  },
  {
   "cell_type": "code",
   "execution_count": 2,
   "id": "5c07db0c",
   "metadata": {},
   "outputs": [],
   "source": [
    "\n",
    "for i in range(1,4):\n",
    "       \n",
    "    website = 'https://www.trulia.com/NY/New_York/' +str(i) +'_p/'\n",
    "    response = requests.get(website)\n",
    "    response.status_code\n",
    "    soup = BeautifulSoup(response.content, 'html.parser')\n",
    "    result = soup.find_all('li', {'class': 'SearchResultsList__WideCell-b7y9ki-2'})\n",
    "    len(result)\n",
    "    results_update = []\n",
    "    for r in result:\n",
    "        if r.has_attr('data-testid'):\n",
    "            results_update.append(r)"
   ]
  },
  {
   "cell_type": "code",
   "execution_count": 3,
   "id": "add3b5c2",
   "metadata": {},
   "outputs": [
    {
     "data": {
      "text/plain": [
       "30"
      ]
     },
     "execution_count": 3,
     "metadata": {},
     "output_type": "execute_result"
    }
   ],
   "source": [
    "len(results_update)"
   ]
  },
  {
   "cell_type": "code",
   "execution_count": 4,
   "id": "79e2de48",
   "metadata": {},
   "outputs": [],
   "source": [
    "streets = [result.find('div', {'data-testid': 'property-street'}).get_text() for result in results_update]\n",
    "regions = [result.find('div', {'data-testid': 'property-region'}).get_text() for result in results_update]\n",
    "beds = [result.find('div', {'data-testid': 'property-beds'}).get_text() for result in results_update]\n",
    "baths = [result.find('div', {'data-testid': 'property-baths'}).get_text() for result in results_update]\n",
    "prices = [result.find('div', {'data-testid': 'property-price'}).get_text() for result in results_update]\n",
    "\n",
    "for k in range"
   ]
  },
  {
   "cell_type": "code",
   "execution_count": null,
   "id": "cd192d09",
   "metadata": {},
   "outputs": [],
   "source": []
  }
 ],
 "metadata": {
  "kernelspec": {
   "display_name": "Python 3 (ipykernel)",
   "language": "python",
   "name": "python3"
  },
  "language_info": {
   "codemirror_mode": {
    "name": "ipython",
    "version": 3
   },
   "file_extension": ".py",
   "mimetype": "text/x-python",
   "name": "python",
   "nbconvert_exporter": "python",
   "pygments_lexer": "ipython3",
   "version": "3.9.6"
  }
 },
 "nbformat": 4,
 "nbformat_minor": 5
}
