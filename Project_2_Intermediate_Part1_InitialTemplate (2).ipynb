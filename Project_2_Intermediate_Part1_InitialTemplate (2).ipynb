{
 "cells": [
  {
   "cell_type": "markdown",
   "metadata": {},
   "source": [
    "### Imports"
   ]
  },
  {
   "cell_type": "code",
   "execution_count": 2,
   "metadata": {},
   "outputs": [],
   "source": [
    "from bs4 import BeautifulSoup\n",
    "import requests\n",
    "import pandas as pd "
   ]
  },
  {
   "cell_type": "markdown",
   "metadata": {},
   "source": [
    "### HTTP Request"
   ]
  },
  {
   "cell_type": "markdown",
   "metadata": {},
   "source": [
    "#### store website in variable"
   ]
  },
  {
   "cell_type": "code",
   "execution_count": 3,
   "metadata": {},
   "outputs": [],
   "source": [
    "website = 'https://www.trulia.com/CA/San_Francisco/'"
   ]
  },
  {
   "cell_type": "markdown",
   "metadata": {},
   "source": [
    "#### Get Request"
   ]
  },
  {
   "cell_type": "code",
   "execution_count": 4,
   "metadata": {},
   "outputs": [],
   "source": [
    "response = requests.get(website)"
   ]
  },
  {
   "cell_type": "markdown",
   "metadata": {},
   "source": [
    "#### Status Code"
   ]
  },
  {
   "cell_type": "code",
   "execution_count": 5,
   "metadata": {},
   "outputs": [
    {
     "data": {
      "text/plain": [
       "200"
      ]
     },
     "execution_count": 5,
     "metadata": {},
     "output_type": "execute_result"
    }
   ],
   "source": [
    "response.status_code"
   ]
  },
  {
   "cell_type": "markdown",
   "metadata": {},
   "source": [
    "### Soup Object"
   ]
  },
  {
   "cell_type": "code",
   "execution_count": 6,
   "metadata": {},
   "outputs": [],
   "source": [
    "soup = BeautifulSoup(response.content, 'html.parser')"
   ]
  },
  {
   "cell_type": "code",
   "execution_count": 7,
   "metadata": {},
   "outputs": [],
   "source": [
    "#soup"
   ]
  },
  {
   "cell_type": "markdown",
   "metadata": {},
   "source": [
    "### Results"
   ]
  },
  {
   "cell_type": "code",
   "execution_count": 8,
   "metadata": {},
   "outputs": [],
   "source": [
    "result = soup.find_all('li', {'class': 'SearchResultsList__WideCell-b7y9ki-2'})"
   ]
  },
  {
   "cell_type": "code",
   "execution_count": 9,
   "metadata": {},
   "outputs": [
    {
     "data": {
      "text/plain": [
       "42"
      ]
     },
     "execution_count": 9,
     "metadata": {},
     "output_type": "execute_result"
    }
   ],
   "source": [
    "len(result)"
   ]
  },
  {
   "cell_type": "code",
   "execution_count": null,
   "metadata": {},
   "outputs": [],
   "source": []
  },
  {
   "cell_type": "markdown",
   "metadata": {},
   "source": [
    "### Update Results"
   ]
  },
  {
   "cell_type": "markdown",
   "metadata": {},
   "source": [
    "we just want to target the elements which have the attribute 'data-testid'"
   ]
  },
  {
   "cell_type": "code",
   "execution_count": 15,
   "metadata": {},
   "outputs": [],
   "source": [
    "results_update = []"
   ]
  },
  {
   "cell_type": "code",
   "execution_count": 16,
   "metadata": {},
   "outputs": [],
   "source": [
    "for r in result:\n",
    "    if r.has_attr('data-testid'):\n",
    "        results_update.append(r)"
   ]
  },
  {
   "cell_type": "code",
   "execution_count": 17,
   "metadata": {},
   "outputs": [
    {
     "data": {
      "text/plain": [
       "40"
      ]
     },
     "execution_count": 17,
     "metadata": {},
     "output_type": "execute_result"
    }
   ],
   "source": [
    "len(results_update)"
   ]
  },
  {
   "cell_type": "code",
   "execution_count": null,
   "metadata": {},
   "outputs": [],
   "source": []
  },
  {
   "cell_type": "markdown",
   "metadata": {},
   "source": [
    "### Target necessary data"
   ]
  },
  {
   "cell_type": "code",
   "execution_count": 18,
   "metadata": {},
   "outputs": [],
   "source": [
    "# Street\n",
    "# Region\n",
    "# Bedrooms\n",
    "# Bathrooms\n",
    "# Price"
   ]
  },
  {
   "cell_type": "markdown",
   "metadata": {},
   "source": [
    "#### Street"
   ]
  },
  {
   "cell_type": "code",
   "execution_count": 19,
   "metadata": {},
   "outputs": [
    {
     "data": {
      "text/plain": [
       "'3724 Moraga St'"
      ]
     },
     "execution_count": 19,
     "metadata": {},
     "output_type": "execute_result"
    }
   ],
   "source": [
    "results_update[1].find('div', {'data-testid': 'property-street'}).get_text()"
   ]
  },
  {
   "cell_type": "markdown",
   "metadata": {},
   "source": [
    "#### Region"
   ]
  },
  {
   "cell_type": "code",
   "execution_count": 20,
   "metadata": {},
   "outputs": [
    {
     "data": {
      "text/plain": [
       "'Outer Sunset, San Francisco, CA'"
      ]
     },
     "execution_count": 20,
     "metadata": {},
     "output_type": "execute_result"
    }
   ],
   "source": [
    "results_update[1].find('div', {'data-testid': 'property-region'}).get_text()"
   ]
  },
  {
   "cell_type": "markdown",
   "metadata": {},
   "source": [
    "#### Bedrooms"
   ]
  },
  {
   "cell_type": "code",
   "execution_count": 21,
   "metadata": {},
   "outputs": [
    {
     "data": {
      "text/plain": [
       "'3bd'"
      ]
     },
     "execution_count": 21,
     "metadata": {},
     "output_type": "execute_result"
    }
   ],
   "source": [
    "results_update[0].find('div', {'data-testid': 'property-beds'}).get_text()"
   ]
  },
  {
   "cell_type": "markdown",
   "metadata": {},
   "source": [
    "#### Bathrooms"
   ]
  },
  {
   "cell_type": "code",
   "execution_count": 23,
   "metadata": {},
   "outputs": [
    {
     "data": {
      "text/plain": [
       "'2ba'"
      ]
     },
     "execution_count": 23,
     "metadata": {},
     "output_type": "execute_result"
    }
   ],
   "source": [
    "results_update[0].find('div', {'data-testid': 'property-baths'}).get_text()"
   ]
  },
  {
   "cell_type": "markdown",
   "metadata": {},
   "source": [
    "#### Price"
   ]
  },
  {
   "cell_type": "code",
   "execution_count": 24,
   "metadata": {},
   "outputs": [
    {
     "data": {
      "text/plain": [
       "'$2,995,000'"
      ]
     },
     "execution_count": 24,
     "metadata": {},
     "output_type": "execute_result"
    }
   ],
   "source": [
    "results_update[0].find('div', {'data-testid': 'property-price'}).get_text()"
   ]
  },
  {
   "cell_type": "code",
   "execution_count": null,
   "metadata": {},
   "outputs": [],
   "source": []
  },
  {
   "cell_type": "markdown",
   "metadata": {},
   "source": [
    "### Append all Results in Lists with List Comprehension"
   ]
  },
  {
   "cell_type": "code",
   "execution_count": 25,
   "metadata": {},
   "outputs": [],
   "source": [
    "streets = [result.find('div', {'data-testid': 'property-street'}).get_text() for result in results_update]\n",
    "regions = [result.find('div', {'data-testid': 'property-region'}).get_text() for result in results_update]\n",
    "beds = [result.find('div', {'data-testid': 'property-beds'}).get_text() for result in results_update]\n",
    "baths = [result.find('div', {'data-testid': 'property-baths'}).get_text() for result in results_update]\n",
    "prices = [result.find('div', {'data-testid': 'property-price'}).get_text() for result in results_update]"
   ]
  },
  {
   "cell_type": "code",
   "execution_count": 26,
   "metadata": {},
   "outputs": [
    {
     "data": {
      "text/plain": [
       "40"
      ]
     },
     "execution_count": 26,
     "metadata": {},
     "output_type": "execute_result"
    }
   ],
   "source": [
    "len(prices)"
   ]
  },
  {
   "cell_type": "markdown",
   "metadata": {},
   "source": [
    "### Create Pandas Dataframe"
   ]
  },
  {
   "cell_type": "code",
   "execution_count": 28,
   "metadata": {},
   "outputs": [],
   "source": [
    "real_estate = pd.DataFrame({'Street':streets, 'Region': regions, 'Bedrooms': beds, 'Bathrooms': baths, 'Price': prices})"
   ]
  },
  {
   "cell_type": "code",
   "execution_count": 29,
   "metadata": {},
   "outputs": [
    {
     "data": {
      "text/html": [
       "<div>\n",
       "<style scoped>\n",
       "    .dataframe tbody tr th:only-of-type {\n",
       "        vertical-align: middle;\n",
       "    }\n",
       "\n",
       "    .dataframe tbody tr th {\n",
       "        vertical-align: top;\n",
       "    }\n",
       "\n",
       "    .dataframe thead th {\n",
       "        text-align: right;\n",
       "    }\n",
       "</style>\n",
       "<table border=\"1\" class=\"dataframe\">\n",
       "  <thead>\n",
       "    <tr style=\"text-align: right;\">\n",
       "      <th></th>\n",
       "      <th>Street</th>\n",
       "      <th>Region</th>\n",
       "      <th>Bedrooms</th>\n",
       "      <th>Bathrooms</th>\n",
       "      <th>Price</th>\n",
       "    </tr>\n",
       "  </thead>\n",
       "  <tbody>\n",
       "    <tr>\n",
       "      <th>0</th>\n",
       "      <td>177 Belgrave Ave</td>\n",
       "      <td>Ashbury Heights, San Francisco, CA</td>\n",
       "      <td>3bd</td>\n",
       "      <td>2ba</td>\n",
       "      <td>$2,995,000</td>\n",
       "    </tr>\n",
       "    <tr>\n",
       "      <th>1</th>\n",
       "      <td>3724 Moraga St</td>\n",
       "      <td>Outer Sunset, San Francisco, CA</td>\n",
       "      <td>3bd</td>\n",
       "      <td>2ba</td>\n",
       "      <td>$1,195,000</td>\n",
       "    </tr>\n",
       "    <tr>\n",
       "      <th>2</th>\n",
       "      <td>2174 44th Ave</td>\n",
       "      <td>Outer Sunset, San Francisco, CA</td>\n",
       "      <td>3bd</td>\n",
       "      <td>2ba</td>\n",
       "      <td>$1,190,000</td>\n",
       "    </tr>\n",
       "    <tr>\n",
       "      <th>3</th>\n",
       "      <td>1235 22nd Ave</td>\n",
       "      <td>Outer Sunset, San Francisco, CA</td>\n",
       "      <td>3bd</td>\n",
       "      <td>1ba</td>\n",
       "      <td>$1,095,000</td>\n",
       "    </tr>\n",
       "    <tr>\n",
       "      <th>4</th>\n",
       "      <td>3901 1/2 Folsom St</td>\n",
       "      <td>Bernal Heights, San Francisco, CA</td>\n",
       "      <td>3bd</td>\n",
       "      <td>2ba</td>\n",
       "      <td>$1,439,000</td>\n",
       "    </tr>\n",
       "    <tr>\n",
       "      <th>5</th>\n",
       "      <td>326 Madrid St</td>\n",
       "      <td>Excelsior, San Francisco, CA</td>\n",
       "      <td>2bd</td>\n",
       "      <td>1ba</td>\n",
       "      <td>$699,000</td>\n",
       "    </tr>\n",
       "    <tr>\n",
       "      <th>6</th>\n",
       "      <td>2170 Harrison St #8</td>\n",
       "      <td>Mission, San Francisco, CA</td>\n",
       "      <td>2bd</td>\n",
       "      <td>2ba</td>\n",
       "      <td>$1,195,000</td>\n",
       "    </tr>\n",
       "    <tr>\n",
       "      <th>7</th>\n",
       "      <td>3224 Folsom St</td>\n",
       "      <td>Bernal Heights, San Francisco, CA</td>\n",
       "      <td>2bd</td>\n",
       "      <td>2ba</td>\n",
       "      <td>$1,695,000</td>\n",
       "    </tr>\n",
       "    <tr>\n",
       "      <th>8</th>\n",
       "      <td>2698 Pacific Ave</td>\n",
       "      <td>Pacific Heights, San Francisco, CA</td>\n",
       "      <td>8bd</td>\n",
       "      <td>8ba</td>\n",
       "      <td>$25,800,000</td>\n",
       "    </tr>\n",
       "    <tr>\n",
       "      <th>9</th>\n",
       "      <td>45 Capra Way</td>\n",
       "      <td>Marina, San Francisco, CA</td>\n",
       "      <td>4bd</td>\n",
       "      <td>6ba</td>\n",
       "      <td>$10,300,000</td>\n",
       "    </tr>\n",
       "    <tr>\n",
       "      <th>10</th>\n",
       "      <td>2018 42nd Ave</td>\n",
       "      <td>Outer Sunset, San Francisco, CA</td>\n",
       "      <td>2bd</td>\n",
       "      <td>1ba</td>\n",
       "      <td>$899,000</td>\n",
       "    </tr>\n",
       "    <tr>\n",
       "      <th>11</th>\n",
       "      <td>2582 Filbert St</td>\n",
       "      <td>Cow Hollow, San Francisco, CA</td>\n",
       "      <td>6bd</td>\n",
       "      <td>9ba</td>\n",
       "      <td>$46,000,000</td>\n",
       "    </tr>\n",
       "    <tr>\n",
       "      <th>12</th>\n",
       "      <td>851 Van Ness Ave #408</td>\n",
       "      <td>Cathedral Hill, San Francisco, CA</td>\n",
       "      <td>2bd</td>\n",
       "      <td>2ba</td>\n",
       "      <td>$975,000</td>\n",
       "    </tr>\n",
       "    <tr>\n",
       "      <th>13</th>\n",
       "      <td>4229 Moraga St</td>\n",
       "      <td>Outer Sunset, San Francisco, CA</td>\n",
       "      <td>4bd</td>\n",
       "      <td>3ba</td>\n",
       "      <td>$1,995,000</td>\n",
       "    </tr>\n",
       "    <tr>\n",
       "      <th>14</th>\n",
       "      <td>300 Baltimore Way</td>\n",
       "      <td>Crocker Amazon, San Francisco, CA</td>\n",
       "      <td>5bd</td>\n",
       "      <td>2ba</td>\n",
       "      <td>$1,249,000</td>\n",
       "    </tr>\n",
       "    <tr>\n",
       "      <th>15</th>\n",
       "      <td>83 Crane St</td>\n",
       "      <td>Bret Harte, San Francisco, CA</td>\n",
       "      <td>4bd</td>\n",
       "      <td>3ba</td>\n",
       "      <td>$1,050,000</td>\n",
       "    </tr>\n",
       "    <tr>\n",
       "      <th>16</th>\n",
       "      <td>2171 Sacramento St #8</td>\n",
       "      <td>Pacific Heights, San Francisco, CA</td>\n",
       "      <td>1bd</td>\n",
       "      <td>1ba</td>\n",
       "      <td>$749,000</td>\n",
       "    </tr>\n",
       "    <tr>\n",
       "      <th>17</th>\n",
       "      <td>775 Congo St</td>\n",
       "      <td>Miraloma Park, San Francisco, CA</td>\n",
       "      <td>4bd</td>\n",
       "      <td>3ba</td>\n",
       "      <td>$1,499,000</td>\n",
       "    </tr>\n",
       "    <tr>\n",
       "      <th>18</th>\n",
       "      <td>1110 Tennessee St</td>\n",
       "      <td>Dogpatch, San Francisco, CA</td>\n",
       "      <td>4bd</td>\n",
       "      <td>3ba</td>\n",
       "      <td>$675,000</td>\n",
       "    </tr>\n",
       "    <tr>\n",
       "      <th>19</th>\n",
       "      <td>870 Harrison St #405</td>\n",
       "      <td>South of Market, San Francisco, CA</td>\n",
       "      <td>2bd</td>\n",
       "      <td>1ba</td>\n",
       "      <td>$369,563</td>\n",
       "    </tr>\n",
       "    <tr>\n",
       "      <th>20</th>\n",
       "      <td>121 Theresa St</td>\n",
       "      <td>Mission Terrace, San Francisco, CA</td>\n",
       "      <td>3bd</td>\n",
       "      <td>2ba</td>\n",
       "      <td>$1,525,000</td>\n",
       "    </tr>\n",
       "    <tr>\n",
       "      <th>21</th>\n",
       "      <td>224 Sea Cliff Ave</td>\n",
       "      <td>Seacliff, San Francisco, CA</td>\n",
       "      <td>6bd</td>\n",
       "      <td>7ba</td>\n",
       "      <td>$15,375,000</td>\n",
       "    </tr>\n",
       "    <tr>\n",
       "      <th>22</th>\n",
       "      <td>217 Yale St</td>\n",
       "      <td>University Mound, San Francisco, CA</td>\n",
       "      <td>4bd</td>\n",
       "      <td>3ba</td>\n",
       "      <td>$1,299,000</td>\n",
       "    </tr>\n",
       "    <tr>\n",
       "      <th>23</th>\n",
       "      <td>3634 Quintara St</td>\n",
       "      <td>Outer Sunset, San Francisco, CA</td>\n",
       "      <td>2bd</td>\n",
       "      <td>2ba</td>\n",
       "      <td>$1,190,000</td>\n",
       "    </tr>\n",
       "    <tr>\n",
       "      <th>24</th>\n",
       "      <td>85 Cerritos Ave</td>\n",
       "      <td>Ingleside Terrace, San Francisco, CA</td>\n",
       "      <td>3bd</td>\n",
       "      <td>3ba</td>\n",
       "      <td>$1,695,000</td>\n",
       "    </tr>\n",
       "    <tr>\n",
       "      <th>25</th>\n",
       "      <td>1550 Jackson St #1</td>\n",
       "      <td>Polk Gulch, San Francisco, CA</td>\n",
       "      <td>1bd</td>\n",
       "      <td>1ba</td>\n",
       "      <td>$748,000</td>\n",
       "    </tr>\n",
       "    <tr>\n",
       "      <th>26</th>\n",
       "      <td>785 Golden Gate Ave #403</td>\n",
       "      <td>Civic Center, San Francisco, CA</td>\n",
       "      <td>1bd</td>\n",
       "      <td>1ba</td>\n",
       "      <td>$699,000</td>\n",
       "    </tr>\n",
       "    <tr>\n",
       "      <th>27</th>\n",
       "      <td>220 Hermann St</td>\n",
       "      <td>Duboce Triangle, San Francisco, CA</td>\n",
       "      <td>3bd</td>\n",
       "      <td>2ba</td>\n",
       "      <td>$1,750,000</td>\n",
       "    </tr>\n",
       "    <tr>\n",
       "      <th>28</th>\n",
       "      <td>161 Anderson St</td>\n",
       "      <td>Bernal Heights, San Francisco, CA</td>\n",
       "      <td>3bd</td>\n",
       "      <td>2ba</td>\n",
       "      <td>$1,595,000</td>\n",
       "    </tr>\n",
       "    <tr>\n",
       "      <th>29</th>\n",
       "      <td>1358 28th Ave</td>\n",
       "      <td>Outer Sunset, San Francisco, CA</td>\n",
       "      <td>2bd</td>\n",
       "      <td>1ba</td>\n",
       "      <td>$1,188,000</td>\n",
       "    </tr>\n",
       "    <tr>\n",
       "      <th>30</th>\n",
       "      <td>599 24th Ave</td>\n",
       "      <td>Outer Richmond, San Francisco, CA</td>\n",
       "      <td>3bd</td>\n",
       "      <td>3ba</td>\n",
       "      <td>$1,850,000</td>\n",
       "    </tr>\n",
       "    <tr>\n",
       "      <th>31</th>\n",
       "      <td>720 Laguna Honda Blvd</td>\n",
       "      <td>Laguna Honda, San Francisco, CA</td>\n",
       "      <td>5bd</td>\n",
       "      <td>2ba</td>\n",
       "      <td>$1,995,000</td>\n",
       "    </tr>\n",
       "    <tr>\n",
       "      <th>32</th>\n",
       "      <td>2950 Pacific Ave</td>\n",
       "      <td>Pacific Heights, San Francisco, CA</td>\n",
       "      <td>8bd</td>\n",
       "      <td>13ba</td>\n",
       "      <td>$29,500,000</td>\n",
       "    </tr>\n",
       "    <tr>\n",
       "      <th>33</th>\n",
       "      <td>110 Castenada Ave</td>\n",
       "      <td>Forest Hill, San Francisco, CA</td>\n",
       "      <td>4bd</td>\n",
       "      <td>3ba</td>\n",
       "      <td>$2,088,000</td>\n",
       "    </tr>\n",
       "    <tr>\n",
       "      <th>34</th>\n",
       "      <td>1901 32nd Ave</td>\n",
       "      <td>Parkside, San Francisco, CA</td>\n",
       "      <td>2bd</td>\n",
       "      <td>1ba</td>\n",
       "      <td>$1,098,000</td>\n",
       "    </tr>\n",
       "    <tr>\n",
       "      <th>35</th>\n",
       "      <td>2828 Vallejo St</td>\n",
       "      <td>Pacific Heights, San Francisco, CA</td>\n",
       "      <td>8bd</td>\n",
       "      <td>9ba</td>\n",
       "      <td>$28,000,000</td>\n",
       "    </tr>\n",
       "    <tr>\n",
       "      <th>36</th>\n",
       "      <td>413 Lyon St</td>\n",
       "      <td>Panhandle, San Francisco, CA</td>\n",
       "      <td>4bd</td>\n",
       "      <td>4ba</td>\n",
       "      <td>$2,895,000</td>\n",
       "    </tr>\n",
       "    <tr>\n",
       "      <th>37</th>\n",
       "      <td>2357 Jackson St #6</td>\n",
       "      <td>Pacific Heights, San Francisco, CA</td>\n",
       "      <td>1bd</td>\n",
       "      <td>1ba</td>\n",
       "      <td>$1,100,000</td>\n",
       "    </tr>\n",
       "    <tr>\n",
       "      <th>38</th>\n",
       "      <td>333 Haight St #3</td>\n",
       "      <td>Mint Hill, San Francisco, CA</td>\n",
       "      <td>3bd</td>\n",
       "      <td>2ba</td>\n",
       "      <td>$850,000</td>\n",
       "    </tr>\n",
       "    <tr>\n",
       "      <th>39</th>\n",
       "      <td>1108 Tennessee St</td>\n",
       "      <td>Dogpatch, San Francisco, CA</td>\n",
       "      <td>2bd</td>\n",
       "      <td>2ba</td>\n",
       "      <td>$800,000</td>\n",
       "    </tr>\n",
       "  </tbody>\n",
       "</table>\n",
       "</div>"
      ],
      "text/plain": [
       "                      Street                                Region Bedrooms  \\\n",
       "0           177 Belgrave Ave    Ashbury Heights, San Francisco, CA      3bd   \n",
       "1             3724 Moraga St       Outer Sunset, San Francisco, CA      3bd   \n",
       "2              2174 44th Ave       Outer Sunset, San Francisco, CA      3bd   \n",
       "3              1235 22nd Ave       Outer Sunset, San Francisco, CA      3bd   \n",
       "4         3901 1/2 Folsom St     Bernal Heights, San Francisco, CA      3bd   \n",
       "5              326 Madrid St          Excelsior, San Francisco, CA      2bd   \n",
       "6        2170 Harrison St #8            Mission, San Francisco, CA      2bd   \n",
       "7             3224 Folsom St     Bernal Heights, San Francisco, CA      2bd   \n",
       "8           2698 Pacific Ave    Pacific Heights, San Francisco, CA      8bd   \n",
       "9               45 Capra Way             Marina, San Francisco, CA      4bd   \n",
       "10             2018 42nd Ave       Outer Sunset, San Francisco, CA      2bd   \n",
       "11           2582 Filbert St         Cow Hollow, San Francisco, CA      6bd   \n",
       "12     851 Van Ness Ave #408     Cathedral Hill, San Francisco, CA      2bd   \n",
       "13            4229 Moraga St       Outer Sunset, San Francisco, CA      4bd   \n",
       "14         300 Baltimore Way     Crocker Amazon, San Francisco, CA      5bd   \n",
       "15               83 Crane St         Bret Harte, San Francisco, CA      4bd   \n",
       "16     2171 Sacramento St #8    Pacific Heights, San Francisco, CA      1bd   \n",
       "17              775 Congo St      Miraloma Park, San Francisco, CA      4bd   \n",
       "18         1110 Tennessee St           Dogpatch, San Francisco, CA      4bd   \n",
       "19      870 Harrison St #405    South of Market, San Francisco, CA      2bd   \n",
       "20            121 Theresa St    Mission Terrace, San Francisco, CA      3bd   \n",
       "21         224 Sea Cliff Ave           Seacliff, San Francisco, CA      6bd   \n",
       "22               217 Yale St   University Mound, San Francisco, CA      4bd   \n",
       "23          3634 Quintara St       Outer Sunset, San Francisco, CA      2bd   \n",
       "24           85 Cerritos Ave  Ingleside Terrace, San Francisco, CA      3bd   \n",
       "25        1550 Jackson St #1         Polk Gulch, San Francisco, CA      1bd   \n",
       "26  785 Golden Gate Ave #403       Civic Center, San Francisco, CA      1bd   \n",
       "27            220 Hermann St    Duboce Triangle, San Francisco, CA      3bd   \n",
       "28           161 Anderson St     Bernal Heights, San Francisco, CA      3bd   \n",
       "29             1358 28th Ave       Outer Sunset, San Francisco, CA      2bd   \n",
       "30              599 24th Ave     Outer Richmond, San Francisco, CA      3bd   \n",
       "31     720 Laguna Honda Blvd       Laguna Honda, San Francisco, CA      5bd   \n",
       "32          2950 Pacific Ave    Pacific Heights, San Francisco, CA      8bd   \n",
       "33         110 Castenada Ave        Forest Hill, San Francisco, CA      4bd   \n",
       "34             1901 32nd Ave           Parkside, San Francisco, CA      2bd   \n",
       "35           2828 Vallejo St    Pacific Heights, San Francisco, CA      8bd   \n",
       "36               413 Lyon St          Panhandle, San Francisco, CA      4bd   \n",
       "37        2357 Jackson St #6    Pacific Heights, San Francisco, CA      1bd   \n",
       "38          333 Haight St #3          Mint Hill, San Francisco, CA      3bd   \n",
       "39         1108 Tennessee St           Dogpatch, San Francisco, CA      2bd   \n",
       "\n",
       "   Bathrooms        Price  \n",
       "0        2ba   $2,995,000  \n",
       "1        2ba   $1,195,000  \n",
       "2        2ba   $1,190,000  \n",
       "3        1ba   $1,095,000  \n",
       "4        2ba   $1,439,000  \n",
       "5        1ba     $699,000  \n",
       "6        2ba   $1,195,000  \n",
       "7        2ba   $1,695,000  \n",
       "8        8ba  $25,800,000  \n",
       "9        6ba  $10,300,000  \n",
       "10       1ba     $899,000  \n",
       "11       9ba  $46,000,000  \n",
       "12       2ba     $975,000  \n",
       "13       3ba   $1,995,000  \n",
       "14       2ba   $1,249,000  \n",
       "15       3ba   $1,050,000  \n",
       "16       1ba     $749,000  \n",
       "17       3ba   $1,499,000  \n",
       "18       3ba     $675,000  \n",
       "19       1ba     $369,563  \n",
       "20       2ba   $1,525,000  \n",
       "21       7ba  $15,375,000  \n",
       "22       3ba   $1,299,000  \n",
       "23       2ba   $1,190,000  \n",
       "24       3ba   $1,695,000  \n",
       "25       1ba     $748,000  \n",
       "26       1ba     $699,000  \n",
       "27       2ba   $1,750,000  \n",
       "28       2ba   $1,595,000  \n",
       "29       1ba   $1,188,000  \n",
       "30       3ba   $1,850,000  \n",
       "31       2ba   $1,995,000  \n",
       "32      13ba  $29,500,000  \n",
       "33       3ba   $2,088,000  \n",
       "34       1ba   $1,098,000  \n",
       "35       9ba  $28,000,000  \n",
       "36       4ba   $2,895,000  \n",
       "37       1ba   $1,100,000  \n",
       "38       2ba     $850,000  \n",
       "39       2ba     $800,000  "
      ]
     },
     "execution_count": 29,
     "metadata": {},
     "output_type": "execute_result"
    }
   ],
   "source": [
    "real_estate"
   ]
  },
  {
   "cell_type": "code",
   "execution_count": null,
   "metadata": {},
   "outputs": [],
   "source": []
  },
  {
   "cell_type": "markdown",
   "metadata": {},
   "source": [
    "### Output in Excel"
   ]
  },
  {
   "cell_type": "code",
   "execution_count": 30,
   "metadata": {},
   "outputs": [],
   "source": [
    "real_estate.to_excel('real_estate_page_1.xlsx', index=False)"
   ]
  },
  {
   "cell_type": "code",
   "execution_count": null,
   "metadata": {},
   "outputs": [],
   "source": []
  }
 ],
 "metadata": {
  "kernelspec": {
   "display_name": "Python 3 (ipykernel)",
   "language": "python",
   "name": "python3"
  },
  "language_info": {
   "codemirror_mode": {
    "name": "ipython",
    "version": 3
   },
   "file_extension": ".py",
   "mimetype": "text/x-python",
   "name": "python",
   "nbconvert_exporter": "python",
   "pygments_lexer": "ipython3",
   "version": "3.9.6"
  }
 },
 "nbformat": 4,
 "nbformat_minor": 4
}
